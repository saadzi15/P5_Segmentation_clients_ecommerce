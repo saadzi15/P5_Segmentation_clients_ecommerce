{
 "cells": [
  {
   "cell_type": "markdown",
   "id": "8f11402c",
   "metadata": {},
   "source": [
    "# Import des librairies"
   ]
  },
  {
   "cell_type": "code",
   "execution_count": 1,
   "id": "57925714",
   "metadata": {},
   "outputs": [],
   "source": [
    "import pandas as pd\n",
    "import numpy as np\n",
    "from datetime import datetime as dt, timedelta\n",
    "\n",
    "from sklearn import preprocessing\n",
    "from sklearn import cluster, metrics\n",
    "from scipy.spatial.distance import cdist\n",
    "from sklearn import decomposition, manifold\n",
    "from sklearn.metrics import adjusted_rand_score\n",
    "import matplotlib.pyplot as plt\n",
    "import seaborn as sns"
   ]
  },
  {
   "cell_type": "markdown",
   "id": "607e32e2",
   "metadata": {},
   "source": [
    "# Chargement du fichier "
   ]
  },
  {
   "cell_type": "code",
   "execution_count": 2,
   "id": "498c36be",
   "metadata": {},
   "outputs": [],
   "source": [
    "data=pd.read_csv('Data_final.csv',index_col=0)"
   ]
  },
  {
   "cell_type": "code",
   "execution_count": 3,
   "id": "d796df37",
   "metadata": {},
   "outputs": [
    {
     "data": {
      "text/plain": [
       "Index(['customer_id', 'customer_unique_id', 'customer_zip_code_prefix',\n",
       "       'customer_city', 'customer_state', 'order_id', 'order_status',\n",
       "       'order_purchase_timestamp', 'order_approved_at',\n",
       "       'order_delivered_carrier_date', 'order_delivered_customer_date',\n",
       "       'order_estimated_delivery_date', 'order_item_id', 'product_id', 'price',\n",
       "       'freight_value', 'payment_sequential', 'payment_type',\n",
       "       'payment_installments', 'review_id', 'review_score',\n",
       "       'product_name_lenght', 'product_description_lenght',\n",
       "       'product_photos_qty', 'product_weight_g', 'product_length_cm',\n",
       "       'product_height_cm', 'product_width_cm',\n",
       "       'product_category_name_english', 'Durée_livraison', 'Prix_produit',\n",
       "       'Prix_Livraison', 'Montant_achat', 'Montant_achat_LOG',\n",
       "       'product_volume', 'frequence_commande', 'date_achat_max', 'Récence',\n",
       "       'Somme_depensee', 'Somme_Livraison', 'Somme_produit',\n",
       "       'product_category_name', 'product_category', 'Somme_depensee_LOG',\n",
       "       'Somme_livraison_LOG', 'Somme_produit_LOG', 'Année', 'Mois_Année'],\n",
       "      dtype='object')"
      ]
     },
     "execution_count": 3,
     "metadata": {},
     "output_type": "execute_result"
    }
   ],
   "source": [
    "data.columns"
   ]
  },
  {
   "cell_type": "markdown",
   "id": "2cbe8340",
   "metadata": {},
   "source": [
    "On définit nos features, qui sont les mêmes que pour le dataset précédent, avec le jour d'achat et l'identifiant unique du client en plus pour la réalisation de notre segmentation temporelle."
   ]
  },
  {
   "cell_type": "code",
   "execution_count": 4,
   "id": "19e04824",
   "metadata": {},
   "outputs": [],
   "source": [
    "features = ['customer_unique_id', 'order_purchase_timestamp', 'frequence_commande', 'Récence','Durée_livraison', 'review_score', 'Somme_depensee']"
   ]
  },
  {
   "cell_type": "code",
   "execution_count": 5,
   "id": "fdd515ec",
   "metadata": {},
   "outputs": [],
   "source": [
    "index=data.columns.isin(features)\n",
    "data = data[data.columns[index]]"
   ]
  },
  {
   "cell_type": "markdown",
   "id": "e9ce4140",
   "metadata": {},
   "source": [
    "On convertit notre donnée temps en date exacte et précise  (AAA/MM/JJ et HH/MM/SS)"
   ]
  },
  {
   "cell_type": "code",
   "execution_count": 6,
   "id": "c47c64c1",
   "metadata": {},
   "outputs": [],
   "source": [
    "f = '%Y-%m-%d %H:%M:%S'\n",
    "data['order_purchase_timestamp'] = data['order_purchase_timestamp'].apply(lambda x: dt.strptime(x, f))"
   ]
  },
  {
   "cell_type": "code",
   "execution_count": 7,
   "id": "f4609927",
   "metadata": {},
   "outputs": [
    {
     "data": {
      "text/plain": [
       "Timestamp('2016-10-03 09:44:50')"
      ]
     },
     "execution_count": 7,
     "metadata": {},
     "output_type": "execute_result"
    }
   ],
   "source": [
    "data['order_purchase_timestamp'].min()"
   ]
  },
  {
   "cell_type": "code",
   "execution_count": 8,
   "id": "51c626de",
   "metadata": {},
   "outputs": [
    {
     "data": {
      "text/plain": [
       "Timestamp('2018-08-29 15:00:37')"
      ]
     },
     "execution_count": 8,
     "metadata": {},
     "output_type": "execute_result"
    }
   ],
   "source": [
    "data['order_purchase_timestamp'].max()"
   ]
  },
  {
   "cell_type": "markdown",
   "id": "3cd7b241",
   "metadata": {},
   "source": [
    "# Période de ventes"
   ]
  },
  {
   "cell_type": "markdown",
   "id": "4091c19b",
   "metadata": {},
   "source": [
    "On établit nos données par année et par mois/année, pour pouvoir estimer à quels moments il y a eu le plus de commandes :"
   ]
  },
  {
   "cell_type": "code",
   "execution_count": 9,
   "id": "a99d8c8f",
   "metadata": {},
   "outputs": [],
   "source": [
    "datecommande_max = data.groupby('customer_unique_id')['order_purchase_timestamp'].max().reset_index()\n",
    "datecommande_max.columns=['customer_unique_id','date_achat_max']"
   ]
  },
  {
   "cell_type": "code",
   "execution_count": 10,
   "id": "d657486b",
   "metadata": {},
   "outputs": [],
   "source": [
    "data=pd.merge(data,datecommande_max,on='customer_unique_id')"
   ]
  },
  {
   "cell_type": "code",
   "execution_count": 11,
   "id": "5bc22c20",
   "metadata": {},
   "outputs": [],
   "source": [
    "data['Mois_Année']=data['date_achat_max'].dt.strftime( \"%B-%Y\")"
   ]
  },
  {
   "cell_type": "code",
   "execution_count": 12,
   "id": "ba527a54",
   "metadata": {},
   "outputs": [],
   "source": [
    "mois_année = ['October-2016','January-2017','February-2017','March-2017','April-2017','May-2017',\\\n",
    " 'June-2017','July-2017','August-2017','September-2017','October-2017','November-2017','December-2017',\\\n",
    " 'January-2018', 'February-2018','March-2018','April-2018','May-2018','June-2018','July-2018',\\\n",
    "  'August-2018']"
   ]
  },
  {
   "cell_type": "code",
   "execution_count": 13,
   "id": "294fb682",
   "metadata": {},
   "outputs": [
    {
     "data": {
      "text/plain": [
       "October-2016       324\n",
       "January-2017       921\n",
       "February-2017     1847\n",
       "March-2017        2915\n",
       "April-2017        2554\n",
       "May-2017          4047\n",
       "June-2017         3540\n",
       "July-2017         4518\n",
       "August-2017       4865\n",
       "September-2017    4849\n",
       "October-2017      5325\n",
       "November-2017     8641\n",
       "December-2017     6255\n",
       "January-2018      8129\n",
       "February-2018     7632\n",
       "March-2018        8275\n",
       "April-2018        8057\n",
       "May-2018          8161\n",
       "June-2018         7514\n",
       "July-2018         7278\n",
       "August-2018       7547\n",
       "Name: Mois_Année, dtype: int64"
      ]
     },
     "execution_count": 13,
     "metadata": {},
     "output_type": "execute_result"
    }
   ],
   "source": [
    "#reindex permet de mettre dans l'ordre \n",
    "data['Mois_Année'].value_counts().reindex(mois_année)"
   ]
  },
  {
   "cell_type": "code",
   "execution_count": 14,
   "id": "a598fea5",
   "metadata": {},
   "outputs": [],
   "source": [
    "periode_ventes =pd.DataFrame({'Mois':data['Mois_Année'].value_counts().reindex(mois_année).index,'Commande':data['Mois_Année'].value_counts().reindex(mois_année).values})"
   ]
  },
  {
   "cell_type": "code",
   "execution_count": 15,
   "id": "1077b136",
   "metadata": {},
   "outputs": [
    {
     "data": {
      "text/plain": [
       "Text(0.5, 1.0, 'Période de ventes')"
      ]
     },
     "execution_count": 15,
     "metadata": {},
     "output_type": "execute_result"
    },
    {
     "data": {
      "image/png": "[encoded data removed]",
      "text/plain": [
       "<Figure size 1440x720 with 1 Axes>"
      ]
     },
     "metadata": {
      "needs_background": "light"
     },
     "output_type": "display_data"
    }
   ],
   "source": [
    "plt.figure(figsize=(20,10))\n",
    "plt.plot(periode_ventes['Mois'],periode_ventes['Commande']);\n",
    "plt.xticks(rotation=90);\n",
    "plt.title('Période de ventes')"
   ]
  },
  {
   "cell_type": "markdown",
   "id": "67f6edac",
   "metadata": {},
   "source": [
    "Nous voyons bien que la période où il y a eu le plus d'achats est en Novembre 2017."
   ]
  },
  {
   "cell_type": "markdown",
   "id": "d0da051c",
   "metadata": {},
   "source": [
    "# Définition de l'échantillon"
   ]
  },
  {
   "cell_type": "markdown",
   "id": "5a82f368",
   "metadata": {},
   "source": [
    "On définit notre échantillon, pour pouvoir avoir les commandes des 18 premiers mois. L'idée est d'obtenir un échantillonage avec 1 mois entre chaque échantillon. Pour le calcul, nous prenons en référence qu'un mois est 30 jours, et que 18 mois représentent 540 jours."
   ]
  },
  {
   "cell_type": "code",
   "execution_count": 16,
   "id": "4a0975b7",
   "metadata": {},
   "outputs": [],
   "source": [
    "def make_echantillon(df, n):\n",
    "    periode_commandes = 540\n",
    "    month = 30\n",
    "    date_min = df['order_purchase_timestamp'].min()\n",
    "    date_min = date_min + timedelta(days=month * (n - 1))\n",
    "    date_max = date_min + timedelta(days=periode_commandes)\n",
    "    echantillon_df = df[(df['order_purchase_timestamp'] > date_min) &\n",
    "                   (df['order_purchase_timestamp'] < date_max)]\n",
    "\n",
    "    print('Taille échantillon ', n, ' : ', echantillon_df.shape,\n",
    "          '\\nDonnées du ', echantillon_df['order_purchase_timestamp'].min(),\n",
    "          ' au ', echantillon_df['order_purchase_timestamp'].max(), '\\n')\n",
    "    return echantillon_df.copy()"
   ]
  },
  {
   "cell_type": "markdown",
   "id": "4935d44d",
   "metadata": {},
   "source": [
    "Notre premier échantillon de données T1 contient les commandes des 18 premiers mois.\n",
    "Les échantillons suivants contiennent tous 18 mois de données avec un décalage d'1 mois entre chaque échantillon. On obtient 7 échantillons de données. "
   ]
  },
  {
   "cell_type": "code",
   "execution_count": 17,
   "id": "d54b1d0b",
   "metadata": {},
   "outputs": [
    {
     "name": "stdout",
     "output_type": "stream",
     "text": [
      "Taille échantillon  1  :  (74424, 9) \n",
      "Données du  2016-10-03 16:56:50  au  2018-03-27 09:38:25 \n",
      "\n",
      "Taille échantillon  2  :  (81967, 9) \n",
      "Données du  2016-12-23 23:16:47  au  2018-04-26 09:11:49 \n",
      "\n",
      "Taille échantillon  3  :  (90310, 9) \n",
      "Données du  2016-12-23 23:16:47  au  2018-05-26 09:35:59 \n",
      "\n",
      "Taille échantillon  4  :  (97009, 9) \n",
      "Données du  2017-01-05 11:56:06  au  2018-06-25 09:35:30 \n",
      "\n",
      "Taille échantillon  5  :  (102772, 9) \n",
      "Données du  2017-01-31 09:57:39  au  2018-07-25 09:40:59 \n",
      "\n",
      "Taille échantillon  6  :  (109482, 9) \n",
      "Données du  2017-03-02 10:19:51  au  2018-08-24 09:41:37 \n",
      "\n",
      "Taille échantillon  7  :  (106999, 9) \n",
      "Données du  2017-04-01 09:51:18  au  2018-08-29 15:00:37 \n",
      "\n"
     ]
    }
   ],
   "source": [
    "P1 = make_echantillon(data, 1)\n",
    "P2 = make_echantillon(data, 2)\n",
    "P3 = make_echantillon(data, 3)\n",
    "P4 = make_echantillon(data, 4)\n",
    "P5 = make_echantillon(data, 5)\n",
    "P6 = make_echantillon(data, 6)\n",
    "P7 = make_echantillon(data, 7)"
   ]
  },
  {
   "cell_type": "code",
   "execution_count": 18,
   "id": "523c7e59",
   "metadata": {},
   "outputs": [
    {
     "data": {
      "text/html": [
       "<div>\n",
       "<style scoped>\n",
       "    .dataframe tbody tr th:only-of-type {\n",
       "        vertical-align: middle;\n",
       "    }\n",
       "\n",
       "    .dataframe tbody tr th {\n",
       "        vertical-align: top;\n",
       "    }\n",
       "\n",
       "    .dataframe thead th {\n",
       "        text-align: right;\n",
       "    }\n",
       "</style>\n",
       "<table border=\"1\" class=\"dataframe\">\n",
       "  <thead>\n",
       "    <tr style=\"text-align: right;\">\n",
       "      <th></th>\n",
       "      <th>customer_unique_id</th>\n",
       "      <th>order_purchase_timestamp</th>\n",
       "      <th>review_score</th>\n",
       "      <th>Durée_livraison</th>\n",
       "      <th>frequence_commande</th>\n",
       "      <th>Récence</th>\n",
       "      <th>Somme_depensee</th>\n",
       "      <th>date_achat_max</th>\n",
       "      <th>Mois_Année</th>\n",
       "    </tr>\n",
       "  </thead>\n",
       "  <tbody>\n",
       "    <tr>\n",
       "      <th>0</th>\n",
       "      <td>861eff4711a542e4b93843c6dd7febb0</td>\n",
       "      <td>2017-05-16 15:05:35</td>\n",
       "      <td>4</td>\n",
       "      <td>8</td>\n",
       "      <td>1</td>\n",
       "      <td>469</td>\n",
       "      <td>146.87</td>\n",
       "      <td>2017-05-16 15:05:35</td>\n",
       "      <td>May-2017</td>\n",
       "    </tr>\n",
       "    <tr>\n",
       "      <th>1</th>\n",
       "      <td>9eae34bbd3a474ec5d07949ca7de67c0</td>\n",
       "      <td>2017-11-09 00:50:13</td>\n",
       "      <td>1</td>\n",
       "      <td>18</td>\n",
       "      <td>2</td>\n",
       "      <td>293</td>\n",
       "      <td>413.67</td>\n",
       "      <td>2017-11-09 00:50:13</td>\n",
       "      <td>November-2017</td>\n",
       "    </tr>\n",
       "    <tr>\n",
       "      <th>2</th>\n",
       "      <td>9eae34bbd3a474ec5d07949ca7de67c0</td>\n",
       "      <td>2017-11-09 00:50:13</td>\n",
       "      <td>1</td>\n",
       "      <td>18</td>\n",
       "      <td>2</td>\n",
       "      <td>293</td>\n",
       "      <td>413.67</td>\n",
       "      <td>2017-11-09 00:50:13</td>\n",
       "      <td>November-2017</td>\n",
       "    </tr>\n",
       "    <tr>\n",
       "      <th>3</th>\n",
       "      <td>3c799d181c34d51f6d44bbbc563024db</td>\n",
       "      <td>2017-05-07 20:11:26</td>\n",
       "      <td>3</td>\n",
       "      <td>18</td>\n",
       "      <td>1</td>\n",
       "      <td>478</td>\n",
       "      <td>140.61</td>\n",
       "      <td>2017-05-07 20:11:26</td>\n",
       "      <td>May-2017</td>\n",
       "    </tr>\n",
       "    <tr>\n",
       "      <th>4</th>\n",
       "      <td>23397e992b09769faf5e66f9e171a241</td>\n",
       "      <td>2018-02-03 19:45:40</td>\n",
       "      <td>4</td>\n",
       "      <td>25</td>\n",
       "      <td>1</td>\n",
       "      <td>206</td>\n",
       "      <td>137.58</td>\n",
       "      <td>2018-02-03 19:45:40</td>\n",
       "      <td>February-2018</td>\n",
       "    </tr>\n",
       "  </tbody>\n",
       "</table>\n",
       "</div>"
      ],
      "text/plain": [
       "                 customer_unique_id order_purchase_timestamp  review_score  \\\n",
       "0  861eff4711a542e4b93843c6dd7febb0      2017-05-16 15:05:35             4   \n",
       "1  9eae34bbd3a474ec5d07949ca7de67c0      2017-11-09 00:50:13             1   \n",
       "2  9eae34bbd3a474ec5d07949ca7de67c0      2017-11-09 00:50:13             1   \n",
       "3  3c799d181c34d51f6d44bbbc563024db      2017-05-07 20:11:26             3   \n",
       "4  23397e992b09769faf5e66f9e171a241      2018-02-03 19:45:40             4   \n",
       "\n",
       "   Durée_livraison  frequence_commande  Récence  Somme_depensee  \\\n",
       "0                8                   1      469          146.87   \n",
       "1               18                   2      293          413.67   \n",
       "2               18                   2      293          413.67   \n",
       "3               18                   1      478          140.61   \n",
       "4               25                   1      206          137.58   \n",
       "\n",
       "       date_achat_max     Mois_Année  \n",
       "0 2017-05-16 15:05:35       May-2017  \n",
       "1 2017-11-09 00:50:13  November-2017  \n",
       "2 2017-11-09 00:50:13  November-2017  \n",
       "3 2017-05-07 20:11:26       May-2017  \n",
       "4 2018-02-03 19:45:40  February-2018  "
      ]
     },
     "execution_count": 18,
     "metadata": {},
     "output_type": "execute_result"
    }
   ],
   "source": [
    "P1.head()"
   ]
  },
  {
   "cell_type": "markdown",
   "id": "69fbb363",
   "metadata": {},
   "source": [
    "# Stabilité au cours du temps"
   ]
  },
  {
   "cell_type": "markdown",
   "id": "72b107ac",
   "metadata": {},
   "source": [
    "Nous allons dans cette partie étudier la stabilité des clusters au cours du temps. A la suite à cette étude, nous réaliserons\n",
    "une proposition de contrat de maintenance.\n",
    "Pour étudier la stabilité des clusters au cours du temps, nous allons calculer l'écart entre un predict du modèle initial et le fit d'un nouveau modèle grâce à la fonction Ajusted_Rand_Score de la façon suivante: adjusted_rand_score (labels_true,labels_pred)\n",
    "\n",
    "Nous établissons une Fonction qui entraine KMeans sur les données récentes et compare les labels obtenus avec ceux prédits par l'ancien modèle.\n",
    "\n",
    "Il s’agit donc de simuler pour notre période d'échantillonage et d’afficher l’évolution de l’ARI. Si l’ARI passe à 0.8 ou moins, il est sûrement pertinent de reproposer un entraînement de modèle au client."
   ]
  },
  {
   "cell_type": "code",
   "execution_count": 37,
   "id": "1d8a9f69",
   "metadata": {},
   "outputs": [],
   "source": [
    "def fit_models(data, old_model):\n",
    "\n",
    "    df = data.copy()\n",
    "    X = df[['Récence', 'Somme_depensee', 'review_score', 'frequence_commande']]\n",
    "    X_scaled = preprocessing.StandardScaler().fit_transform(X)\n",
    "    new_model = cluster.KMeans(n_clusters=6, random_state=0)\n",
    "    new_model.fit(X_scaled)\n",
    "    labels_pred = new_model.labels_\n",
    "\n",
    "    labels_true = old_model.predict(X_scaled)\n",
    "    ARI = adjusted_rand_score(labels_true, labels_pred)\n",
    "\n",
    "    return ARI"
   ]
  },
  {
   "cell_type": "markdown",
   "id": "3ee7f999",
   "metadata": {},
   "source": [
    "  Voici donc le modèle de base :"
   ]
  },
  {
   "cell_type": "code",
   "execution_count": 38,
   "id": "57c6624b",
   "metadata": {},
   "outputs": [
    {
     "data": {
      "text/plain": [
       "KMeans(n_clusters=6, random_state=0)"
      ]
     },
     "execution_count": 38,
     "metadata": {},
     "output_type": "execute_result"
    }
   ],
   "source": [
    "X = P1[['Récence', 'Somme_depensee', 'review_score', 'frequence_commande']]\n",
    "X_scaled = preprocessing.StandardScaler().fit_transform(X)\n",
    "model = cluster.KMeans(n_clusters=6, random_state=0)\n",
    "model.fit(X_scaled)"
   ]
  },
  {
   "cell_type": "code",
   "execution_count": 39,
   "id": "58892d73",
   "metadata": {},
   "outputs": [],
   "source": [
    "ARI_P1 = fit_models(P1, model)"
   ]
  },
  {
   "cell_type": "markdown",
   "id": "8102f253",
   "metadata": {},
   "source": [
    "Le modèle sur le premier échantillon nous sert de base. On compare les prédictions du premier modèle avec le modèle réentrainé sur chaque échantillon."
   ]
  },
  {
   "cell_type": "code",
   "execution_count": 40,
   "id": "298d1a76",
   "metadata": {},
   "outputs": [],
   "source": [
    "#1 mois\n",
    "ARI_P2 = fit_models(P2, model)\n",
    "#2 mois\n",
    "ARI_P3 = fit_models(P3, model)\n",
    "#3 mois\n",
    "ARI_P4 = fit_models(P4, model)\n",
    "#4 mois\n",
    "ARI_P5 = fit_models(P5, model)\n",
    "#5 mois\n",
    "ARI_P6 = fit_models(P6, model)\n",
    "#6 mois\n",
    "ARI_P7 = fit_models(P7, model)"
   ]
  },
  {
   "cell_type": "markdown",
   "id": "5a1f2975",
   "metadata": {},
   "source": [
    "On crée un nouveau dataframe avec nos données sur l'ARI pour estimer la comparaison : "
   ]
  },
  {
   "cell_type": "code",
   "execution_count": 41,
   "id": "607e7b4e",
   "metadata": {},
   "outputs": [],
   "source": [
    "data_temps = pd.DataFrame({'Période échantillon': ['P1', 'P2', 'P3', 'P4', 'P5', 'P6', 'P7'],\n",
    "                                'ARI': [ARI_P1,ARI_P2,ARI_P3,ARI_P4,ARI_P5,ARI_P6,ARI_P7]})"
   ]
  },
  {
   "cell_type": "code",
   "execution_count": 42,
   "id": "50f82306",
   "metadata": {},
   "outputs": [
    {
     "data": {
      "text/html": [
       "<div>\n",
       "<style scoped>\n",
       "    .dataframe tbody tr th:only-of-type {\n",
       "        vertical-align: middle;\n",
       "    }\n",
       "\n",
       "    .dataframe tbody tr th {\n",
       "        vertical-align: top;\n",
       "    }\n",
       "\n",
       "    .dataframe thead th {\n",
       "        text-align: right;\n",
       "    }\n",
       "</style>\n",
       "<table border=\"1\" class=\"dataframe\">\n",
       "  <thead>\n",
       "    <tr style=\"text-align: right;\">\n",
       "      <th></th>\n",
       "      <th>Période échantillon</th>\n",
       "      <th>ARI</th>\n",
       "    </tr>\n",
       "  </thead>\n",
       "  <tbody>\n",
       "    <tr>\n",
       "      <th>0</th>\n",
       "      <td>P1</td>\n",
       "      <td>1.000000</td>\n",
       "    </tr>\n",
       "    <tr>\n",
       "      <th>1</th>\n",
       "      <td>P2</td>\n",
       "      <td>0.914133</td>\n",
       "    </tr>\n",
       "    <tr>\n",
       "      <th>2</th>\n",
       "      <td>P3</td>\n",
       "      <td>0.943755</td>\n",
       "    </tr>\n",
       "    <tr>\n",
       "      <th>3</th>\n",
       "      <td>P4</td>\n",
       "      <td>0.928823</td>\n",
       "    </tr>\n",
       "    <tr>\n",
       "      <th>4</th>\n",
       "      <td>P5</td>\n",
       "      <td>0.809604</td>\n",
       "    </tr>\n",
       "    <tr>\n",
       "      <th>5</th>\n",
       "      <td>P6</td>\n",
       "      <td>0.847187</td>\n",
       "    </tr>\n",
       "    <tr>\n",
       "      <th>6</th>\n",
       "      <td>P7</td>\n",
       "      <td>0.862861</td>\n",
       "    </tr>\n",
       "  </tbody>\n",
       "</table>\n",
       "</div>"
      ],
      "text/plain": [
       "  Période échantillon       ARI\n",
       "0                  P1  1.000000\n",
       "1                  P2  0.914133\n",
       "2                  P3  0.943755\n",
       "3                  P4  0.928823\n",
       "4                  P5  0.809604\n",
       "5                  P6  0.847187\n",
       "6                  P7  0.862861"
      ]
     },
     "execution_count": 42,
     "metadata": {},
     "output_type": "execute_result"
    }
   ],
   "source": [
    "data_temps"
   ]
  },
  {
   "cell_type": "code",
   "execution_count": 43,
   "id": "d57babd0",
   "metadata": {},
   "outputs": [
    {
     "data": {
      "image/png": "[encoded data removed]",
      "text/plain": [
       "<Figure size 1440x720 with 1 Axes>"
      ]
     },
     "metadata": {
      "needs_background": "light"
     },
     "output_type": "display_data"
    }
   ],
   "source": [
    "plt.figure(figsize=(20, 10))\n",
    "plt.plot(data_temps['Période échantillon'], data_temps['ARI'], c='red')\n",
    "plt.title('Durée de maintenance')\n",
    "plt.xlabel('Périodes échantillonage')\n",
    "plt.ylabel('ARI')\n",
    "plt.show()"
   ]
  },
  {
   "cell_type": "markdown",
   "id": "af7bc532",
   "metadata": {},
   "source": [
    "# Contrat de maintenance"
   ]
  },
  {
   "cell_type": "markdown",
   "id": "164cd7f3",
   "metadata": {},
   "source": [
    "Sur ce plot des scores ARI obtenus sur les itérations par période d'1 mois, on remarque une forte inflexion sur notre échantillon P5, soit 4 mois après notre premier échantillon T1. L'ARI passe en dessous à 0.8 à cette période là.\n",
    "Il faudra donc prévoir la maintenance du programme de segmentation tous les 4 mois dans un premier temps puis re-tester cette stabilité temporelle au fil du temps afin de l'affiner. Il sera donc nécessaire de redéfinir les segments clients à chaque maintenance."
   ]
  }
 ],
 "metadata": {
  "kernelspec": {
   "display_name": "Python 3 (ipykernel)",
   "language": "python",
   "name": "python3"
  },
  "language_info": {
   "codemirror_mode": {
    "name": "ipython",
    "version": 3
   },
   "file_extension": ".py",
   "mimetype": "text/x-python",
   "name": "python",
   "nbconvert_exporter": "python",
   "pygments_lexer": "ipython3",
   "version": "3.9.7"
  }
 },
 "nbformat": 4,
 "nbformat_minor": 5
}
